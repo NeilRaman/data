{
  "nbformat": 4,
  "nbformat_minor": 0,
  "metadata": {
    "colab": {
      "name": "Untitled1.ipynb",
      "provenance": [],
      "authorship_tag": "ABX9TyO6+991KeaLcC4F2t9vsQIy",
      "include_colab_link": true
    },
    "kernelspec": {
      "name": "python3",
      "display_name": "Python 3"
    },
    "language_info": {
      "name": "python"
    }
  },
  "cells": [
    {
      "cell_type": "markdown",
      "metadata": {
        "id": "view-in-github",
        "colab_type": "text"
      },
      "source": [
        "<a href=\"https://colab.research.google.com/github/NeilRaman/data/blob/main/Untitled1.ipynb\" target=\"_parent\"><img src=\"https://colab.research.google.com/assets/colab-badge.svg\" alt=\"Open In Colab\"/></a>"
      ]
    },
    {
      "cell_type": "code",
      "metadata": {
        "id": "DN4v-JPcmsfq"
      },
      "source": [
        "import pandas as pd\n",
        "import numpy as np\n",
        "from math import cos,sin,pi\n",
        "import matplotlib as mpl\n",
        "import matplotlib.pyplot as plt"
      ],
      "execution_count": null,
      "outputs": []
    },
    {
      "cell_type": "code",
      "metadata": {
        "id": "J0NNeam2gOYE"
      },
      "source": [
        "data = pd.read_csv('https://raw.githubusercontent.com/NeilRaman/final-data/main/Microsoft_stock_history.csv')"
      ],
      "execution_count": null,
      "outputs": []
    },
    {
      "cell_type": "code",
      "metadata": {
        "colab": {
          "base_uri": "https://localhost:8080/",
          "height": 419
        },
        "id": "k2bEPy5lgokp",
        "outputId": "3ddd806d-4f44-4726-bf89-d2fe0bd96ddf"
      },
      "source": [
        "data"
      ],
      "execution_count": null,
      "outputs": [
        {
          "output_type": "execute_result",
          "data": {
            "text/html": [
              "<div>\n",
              "<style scoped>\n",
              "    .dataframe tbody tr th:only-of-type {\n",
              "        vertical-align: middle;\n",
              "    }\n",
              "\n",
              "    .dataframe tbody tr th {\n",
              "        vertical-align: top;\n",
              "    }\n",
              "\n",
              "    .dataframe thead th {\n",
              "        text-align: right;\n",
              "    }\n",
              "</style>\n",
              "<table border=\"1\" class=\"dataframe\">\n",
              "  <thead>\n",
              "    <tr style=\"text-align: right;\">\n",
              "      <th></th>\n",
              "      <th>Date</th>\n",
              "      <th>Open</th>\n",
              "      <th>High</th>\n",
              "      <th>Low</th>\n",
              "      <th>Close</th>\n",
              "      <th>Volume</th>\n",
              "      <th>Dividends</th>\n",
              "      <th>Stock Splits</th>\n",
              "    </tr>\n",
              "  </thead>\n",
              "  <tbody>\n",
              "    <tr>\n",
              "      <th>0</th>\n",
              "      <td>1986-03-13</td>\n",
              "      <td>0.056001</td>\n",
              "      <td>0.064236</td>\n",
              "      <td>0.056001</td>\n",
              "      <td>0.061491</td>\n",
              "      <td>1031788800</td>\n",
              "      <td>0.0</td>\n",
              "      <td>0.0</td>\n",
              "    </tr>\n",
              "    <tr>\n",
              "      <th>1</th>\n",
              "      <td>1986-03-14</td>\n",
              "      <td>0.061491</td>\n",
              "      <td>0.064785</td>\n",
              "      <td>0.061491</td>\n",
              "      <td>0.063687</td>\n",
              "      <td>308160000</td>\n",
              "      <td>0.0</td>\n",
              "      <td>0.0</td>\n",
              "    </tr>\n",
              "    <tr>\n",
              "      <th>2</th>\n",
              "      <td>1986-03-17</td>\n",
              "      <td>0.063687</td>\n",
              "      <td>0.065334</td>\n",
              "      <td>0.063687</td>\n",
              "      <td>0.064785</td>\n",
              "      <td>133171200</td>\n",
              "      <td>0.0</td>\n",
              "      <td>0.0</td>\n",
              "    </tr>\n",
              "    <tr>\n",
              "      <th>3</th>\n",
              "      <td>1986-03-18</td>\n",
              "      <td>0.064785</td>\n",
              "      <td>0.065334</td>\n",
              "      <td>0.062589</td>\n",
              "      <td>0.063138</td>\n",
              "      <td>67766400</td>\n",
              "      <td>0.0</td>\n",
              "      <td>0.0</td>\n",
              "    </tr>\n",
              "    <tr>\n",
              "      <th>4</th>\n",
              "      <td>1986-03-19</td>\n",
              "      <td>0.063138</td>\n",
              "      <td>0.063687</td>\n",
              "      <td>0.061491</td>\n",
              "      <td>0.062040</td>\n",
              "      <td>47894400</td>\n",
              "      <td>0.0</td>\n",
              "      <td>0.0</td>\n",
              "    </tr>\n",
              "    <tr>\n",
              "      <th>...</th>\n",
              "      <td>...</td>\n",
              "      <td>...</td>\n",
              "      <td>...</td>\n",
              "      <td>...</td>\n",
              "      <td>...</td>\n",
              "      <td>...</td>\n",
              "      <td>...</td>\n",
              "      <td>...</td>\n",
              "    </tr>\n",
              "    <tr>\n",
              "      <th>8951</th>\n",
              "      <td>2021-09-16</td>\n",
              "      <td>303.760010</td>\n",
              "      <td>305.309998</td>\n",
              "      <td>300.760010</td>\n",
              "      <td>305.220001</td>\n",
              "      <td>19550800</td>\n",
              "      <td>0.0</td>\n",
              "      <td>0.0</td>\n",
              "    </tr>\n",
              "    <tr>\n",
              "      <th>8952</th>\n",
              "      <td>2021-09-17</td>\n",
              "      <td>304.170013</td>\n",
              "      <td>304.500000</td>\n",
              "      <td>299.529999</td>\n",
              "      <td>299.869995</td>\n",
              "      <td>41309300</td>\n",
              "      <td>0.0</td>\n",
              "      <td>0.0</td>\n",
              "    </tr>\n",
              "    <tr>\n",
              "      <th>8953</th>\n",
              "      <td>2021-09-20</td>\n",
              "      <td>296.329987</td>\n",
              "      <td>298.720001</td>\n",
              "      <td>289.519989</td>\n",
              "      <td>294.299988</td>\n",
              "      <td>38278700</td>\n",
              "      <td>0.0</td>\n",
              "      <td>0.0</td>\n",
              "    </tr>\n",
              "    <tr>\n",
              "      <th>8954</th>\n",
              "      <td>2021-09-21</td>\n",
              "      <td>295.690002</td>\n",
              "      <td>297.540009</td>\n",
              "      <td>294.070007</td>\n",
              "      <td>294.799988</td>\n",
              "      <td>22364100</td>\n",
              "      <td>0.0</td>\n",
              "      <td>0.0</td>\n",
              "    </tr>\n",
              "    <tr>\n",
              "      <th>8955</th>\n",
              "      <td>2021-09-22</td>\n",
              "      <td>296.730011</td>\n",
              "      <td>300.220001</td>\n",
              "      <td>294.510010</td>\n",
              "      <td>298.579987</td>\n",
              "      <td>26614400</td>\n",
              "      <td>0.0</td>\n",
              "      <td>0.0</td>\n",
              "    </tr>\n",
              "  </tbody>\n",
              "</table>\n",
              "<p>8956 rows × 8 columns</p>\n",
              "</div>"
            ],
            "text/plain": [
              "            Date        Open        High  ...      Volume  Dividends  Stock Splits\n",
              "0     1986-03-13    0.056001    0.064236  ...  1031788800        0.0           0.0\n",
              "1     1986-03-14    0.061491    0.064785  ...   308160000        0.0           0.0\n",
              "2     1986-03-17    0.063687    0.065334  ...   133171200        0.0           0.0\n",
              "3     1986-03-18    0.064785    0.065334  ...    67766400        0.0           0.0\n",
              "4     1986-03-19    0.063138    0.063687  ...    47894400        0.0           0.0\n",
              "...          ...         ...         ...  ...         ...        ...           ...\n",
              "8951  2021-09-16  303.760010  305.309998  ...    19550800        0.0           0.0\n",
              "8952  2021-09-17  304.170013  304.500000  ...    41309300        0.0           0.0\n",
              "8953  2021-09-20  296.329987  298.720001  ...    38278700        0.0           0.0\n",
              "8954  2021-09-21  295.690002  297.540009  ...    22364100        0.0           0.0\n",
              "8955  2021-09-22  296.730011  300.220001  ...    26614400        0.0           0.0\n",
              "\n",
              "[8956 rows x 8 columns]"
            ]
          },
          "metadata": {},
          "execution_count": 5
        }
      ]
    },
    {
      "cell_type": "code",
      "metadata": {
        "id": "wZq1-Kq-grVl"
      },
      "source": [
        "x = data['Date']"
      ],
      "execution_count": null,
      "outputs": []
    },
    {
      "cell_type": "code",
      "metadata": {
        "id": "WdaWg0c7gu6O"
      },
      "source": [
        "y=data['Volume']"
      ],
      "execution_count": null,
      "outputs": []
    },
    {
      "cell_type": "code",
      "metadata": {
        "colab": {
          "base_uri": "https://localhost:8080/",
          "height": 307
        },
        "id": "K3WrgNtkhG0j",
        "outputId": "f3ceaa68-c5e7-45ba-8361-eae901599134"
      },
      "source": [
        "\n",
        "plt.plot(x,y,)\n",
        "plt.xlabel('Date')\n",
        "plt.ylabel('Volume')"
      ],
      "execution_count": null,
      "outputs": [
        {
          "output_type": "execute_result",
          "data": {
            "text/plain": [
              "Text(0, 0.5, 'Volume')"
            ]
          },
          "metadata": {},
          "execution_count": 8
        },
        {
          "output_type": "display_data",
          "data": {
            "image/png": "[encoded data removed]",
            "text/plain": [
              "<Figure size 432x288 with 1 Axes>"
            ]
          },
          "metadata": {
            "needs_background": "light"
          }
        }
      ]
    },
    {
      "cell_type": "markdown",
      "metadata": {
        "id": "wosPs3g6kRn-"
      },
      "source": [
        "I chose this data set because I am interested in stocks."
      ]
    },
    {
      "cell_type": "markdown",
      "metadata": {
        "id": "zGVft1NJkpKF"
      },
      "source": [
        "This data set is stocks of Microsoft."
      ]
    },
    {
      "cell_type": "markdown",
      "metadata": {
        "id": "k1dC5H7P3AMo"
      },
      "source": [
        "It represents the assets that are being traded each day."
      ]
    },
    {
      "cell_type": "markdown",
      "metadata": {
        "id": "X4dbIZcK3rYn"
      },
      "source": [
        "I could also make a dataset of the highs of each day."
      ]
    },
    {
      "cell_type": "markdown",
      "metadata": {
        "id": "7usvJ9Io389E"
      },
      "source": [
        "I wished it had data of the day's average stock level"
      ]
    },
    {
      "cell_type": "markdown",
      "metadata": {
        "id": "7falrOZC4Kl4"
      },
      "source": [
        "I could make a computer program that shows stocks of each company and their averages because it would be interesting."
      ]
    }
  ]
}